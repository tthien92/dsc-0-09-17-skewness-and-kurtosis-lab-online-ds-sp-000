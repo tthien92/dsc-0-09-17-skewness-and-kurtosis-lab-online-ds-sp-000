{
 "cells": [
  {
   "cell_type": "markdown",
   "metadata": {},
   "source": [
    "# Skewness and Kurtosis - Lab"
   ]
  },
  {
   "cell_type": "markdown",
   "metadata": {},
   "source": [
    "## Introduction\n",
    "\n",
    "In this lab, we shall look at calculating skewness and kurtosis for a given dataset in python and SciPy. \n",
    "\n",
    "## Objectives\n",
    "You will be able to:\n",
    "* Measure, visualize, and interpret the kurtosis of a dataset\n",
    "* Measure, visualize, and interpret the skewness of a dataset"
   ]
  },
  {
   "cell_type": "markdown",
   "metadata": {},
   "source": [
    "## Bring in SciPy\n",
    "In the previous lesson, we have seen formulas for calculating skewness and kurtosis for a given dataset. Scipy comes packaged with these functions and  provides an easy way to calculate these two quantities, see [scipy.stats.kurtosis](https://docs.scipy.org/doc/scipy/reference/generated/scipy.stats.kurtosis.html#scipy.stats.kurtosis) and [scipy.stats.skew](scipy.stats.skew). Check out the official SciPy documentation for digging deeper into this. Right now we can use format: \n",
    "> **scipy.stats.kurtosis(x)**\n",
    "\n",
    "> **scipy.stats.skew(x)**\n",
    "\n",
    "Where x is a random continuous variable. \n",
    "\n",
    "We shall generate two synthetic datasets and measure/visualize and compare their skew and kurtosis in this lab. So lets get to it."
   ]
  },
  {
   "cell_type": "code",
   "execution_count": 1,
   "metadata": {},
   "outputs": [],
   "source": [
    "# Import required libraries\n",
    "import numpy as np\n",
    "import matplotlib.pyplot as plt\n",
    "\n",
    "from scipy.stats import kurtosis, skew"
   ]
  },
  {
   "cell_type": "markdown",
   "metadata": {},
   "source": [
    "## Take 1\n",
    "Perform following steps\n",
    "* Generate a random normal variable `x_random` in numpy with 10,000 values. Set the mean value to 0 and standard deviation to 2\n",
    "* Plot a histogram for data, set bins to `auto` (default). \n",
    "* Calculate the skewness and kurtosis for this data distribution using above functions. \n",
    "* Record your observations about calculated values and shape of the data. "
   ]
  },
  {
   "cell_type": "code",
   "execution_count": 2,
   "metadata": {},
   "outputs": [
    {
     "data": {
      "text/plain": [
       "(array([ 1.,  0.,  0.,  0.,  0.,  0.,  0.,  0.,  0.,  0.,  0.,  0.,  0.,\n",
       "         1.,  0.,  1.,  0.,  0.,  0.,  0.,  0.,  0.,  0.,  0.,  0.,  0.,\n",
       "         0.,  0.,  0.,  0.,  1.,  0.,  0.,  1.,  0.,  0.,  0.,  0.,  0.,\n",
       "         0.,  0.,  0.,  0.,  0.,  0.,  0.,  0.,  0.,  0.,  0.,  0.,  0.,\n",
       "         0.,  1.,  0.,  0.,  0.,  1.,  0.,  1.,  0.,  1.,  1.,  1.,  0.,\n",
       "         0.,  0.,  0.,  1.,  0.,  0.,  0.,  1.,  2.,  0.,  0.,  0.,  1.,\n",
       "         1.,  0.,  0.,  0.,  0.,  0.,  0.,  0.,  0.,  1.,  1.,  1.,  0.,\n",
       "         0.,  0.,  0.,  1.,  0.,  0.,  0.,  1.,  0.,  0.,  0.,  1.,  1.,\n",
       "         0.,  0.,  1.,  0.,  1.,  1.,  1.,  1.,  0.,  1.,  1.,  1.,  0.,\n",
       "         1.,  2.,  0.,  0.,  1.,  3.,  1.,  0.,  0.,  3.,  2.,  2.,  1.,\n",
       "         0.,  2.,  2.,  1.,  1.,  1.,  2.,  2.,  1.,  2.,  0.,  1.,  2.,\n",
       "         3.,  0.,  1.,  3.,  2.,  0.,  0.,  1.,  0.,  5.,  1.,  2.,  2.,\n",
       "         3.,  0.,  1.,  0.,  1.,  3.,  1.,  1.,  0.,  2.,  1.,  1.,  0.,\n",
       "         2.,  3.,  1.,  1.,  3.,  5.,  2.,  5.,  1.,  2.,  4.,  2.,  1.,\n",
       "         3.,  4.,  0.,  4.,  2.,  3.,  2.,  2.,  2.,  2.,  2.,  3.,  5.,\n",
       "         4.,  6.,  1.,  5.,  3.,  3.,  4.,  5.,  3.,  3.,  3.,  2.,  2.,\n",
       "         4.,  3.,  6.,  4.,  2.,  8.,  2.,  3.,  6.,  3.,  7.,  1.,  3.,\n",
       "         6.,  5.,  4.,  7.,  5.,  4.,  2.,  3.,  3.,  4.,  0.,  3.,  6.,\n",
       "         3.,  3.,  5.,  8.,  6.,  7.,  3.,  6.,  8.,  9.,  2.,  5.,  3.,\n",
       "         7.,  6.,  3.,  5.,  9.,  9.,  8.,  8.,  9.,  7., 11.,  9.,  9.,\n",
       "         3.,  8.,  3., 11., 11.,  8., 11.,  6.,  5.,  5., 16.,  9.,  3.,\n",
       "         9., 14.,  9., 12., 15.,  4.,  7., 10., 15., 11.,  5.,  5.,  7.,\n",
       "         9., 14.,  7., 10., 10., 17.,  7.,  9.,  9., 10.,  8.,  9., 17.,\n",
       "         7., 12., 13., 14., 11.,  9., 12., 14., 17., 12., 20.,  9., 12.,\n",
       "        19., 14., 17., 16., 13., 19., 17., 12., 17., 23., 14., 15., 24.,\n",
       "        18., 13., 27., 17., 11., 17., 19., 20., 13., 13., 12., 14., 15.,\n",
       "        15., 21.,  8., 16., 12., 11., 19., 15., 16., 18., 18., 20., 23.,\n",
       "        22., 20., 23., 14., 21., 27., 19., 15., 21., 27., 21., 23., 26.,\n",
       "        15., 16., 22., 13., 32., 14., 24., 22., 26., 21., 33., 20., 19.,\n",
       "        25., 22., 19., 25., 27., 18., 31., 21., 22., 27., 23., 28., 31.,\n",
       "        18., 27., 21., 32., 27., 19., 28., 30., 24., 19., 22., 26., 27.,\n",
       "        20., 33., 33., 29., 19., 23., 30., 17., 24., 25., 27., 24., 26.,\n",
       "        25., 20., 32., 26., 32., 25., 33., 20., 25., 23., 28., 36., 36.,\n",
       "        23., 21., 24., 26., 32., 35., 21., 25., 28., 26., 25., 28., 24.,\n",
       "        24., 30., 37., 28., 30., 43., 31., 28., 28., 37., 24., 19., 34.,\n",
       "        27., 29., 33., 18., 34., 30., 23., 27., 27., 40., 39., 14., 39.,\n",
       "        28., 31., 28., 28., 24., 35., 25., 23., 28., 37., 32., 39., 33.,\n",
       "        48., 26., 28., 34., 22., 25., 32., 28., 30., 26., 28., 26., 30.,\n",
       "        28., 27., 36., 34., 26., 28., 38., 22., 32., 25., 28., 32., 32.,\n",
       "        38., 24., 31., 29., 27., 27., 34., 25., 29., 29., 28., 30., 27.,\n",
       "        24., 36., 29., 42., 34., 31., 25., 32., 26., 26., 14., 22., 28.,\n",
       "        20., 15., 22., 23., 32., 33., 33., 28., 23., 19., 27., 24., 26.,\n",
       "        27., 27., 32., 28., 36., 22., 30., 27., 31., 30., 32., 19., 34.,\n",
       "        34., 23., 16., 32., 20., 18., 23., 18., 24., 18., 20., 14., 30.,\n",
       "        32., 26., 23., 24., 28., 16., 25., 25., 29., 27., 23., 30., 18.,\n",
       "        19., 31., 21., 17., 18., 17., 26., 24., 19., 21., 15., 22., 15.,\n",
       "        24., 20., 31., 21., 21., 19., 21., 19., 16., 17., 15., 20., 16.,\n",
       "        15., 20., 11., 16., 20., 29., 14., 22., 13., 27., 19., 11., 20.,\n",
       "        17., 13.,  7., 17., 11., 17., 19., 13., 19., 12., 20., 13., 21.,\n",
       "        19., 16., 13., 15., 11., 14., 15., 15., 17., 19., 13., 16., 11.,\n",
       "        14., 16., 13., 15., 14., 12., 11., 19., 10., 12.,  9.,  8., 13.,\n",
       "        13., 15., 10., 10.,  8., 11., 12.,  8., 15.,  9.,  6., 15., 12.,\n",
       "         6., 13.,  6., 10., 10.,  5., 12.,  9.,  7., 12.,  9.,  8.,  9.,\n",
       "         6.,  7.,  5., 11.,  7., 10., 10.,  7., 10.,  9., 13.,  6.,  8.,\n",
       "         4.,  4., 10., 10.,  8.,  6.,  5.,  1.,  6.,  2.,  3.,  8.,  5.,\n",
       "         7.,  6., 11.,  7.,  7.,  3.,  7.,  6.,  5.,  4.,  3.,  3.,  6.,\n",
       "         3.,  6.,  3.,  5.,  6.,  5.,  7.,  4.,  4.,  2.,  4.,  5.,  3.,\n",
       "         3.,  3., 10.,  7.,  2.,  3.,  2.,  2.,  6.,  2.,  3.,  2.,  7.,\n",
       "         4.,  3.,  1.,  4.,  7.,  3.,  2.,  5.,  2.,  4.,  5.,  1.,  5.,\n",
       "         3.,  4.,  3.,  6.,  1.,  3.,  3.,  2.,  5.,  2.,  3.,  2.,  3.,\n",
       "         2.,  0.,  3.,  1.,  3.,  2.,  2.,  2.,  0.,  1.,  2.,  3.,  3.,\n",
       "         2.,  1.,  0.,  0.,  1.,  0.,  1.,  0.,  1.,  0.,  1.,  1.,  2.,\n",
       "         1.,  0.,  2.,  2.,  1.,  1.,  0.,  1.,  0.,  0.,  0.,  1.,  1.,\n",
       "         0.,  0.,  1.,  0.,  0.,  0.,  0.,  4.,  3.,  1.,  0.,  5.,  0.,\n",
       "         1.,  0.,  0.,  0.,  1.,  1.,  3.,  1.,  1.,  1.,  0.,  1.,  0.,\n",
       "         1.,  0.,  3.,  0.,  0.,  1.,  0.,  1.,  1.,  0.,  1.,  0.,  1.,\n",
       "         0.,  1.,  0.,  2.,  0.,  0.,  3.,  0.,  0.,  0.,  2.,  1.,  1.,\n",
       "         2.,  1.,  1.,  0.,  0.,  0.,  0.,  0.,  0.,  0.,  0.,  1.,  2.,\n",
       "         1.,  1.,  0.,  0.,  0.,  0.,  0.,  0.,  0.,  0.,  0.,  1.,  0.,\n",
       "         0.,  1.,  0.,  0.,  1.,  0.,  0.,  0.,  1.,  0.,  0.,  0.,  0.,\n",
       "         0.,  0.,  0.,  0.,  0.,  0.,  0.,  0.,  0.,  0.,  0.,  0.,  0.,\n",
       "         0.,  1.,  0.,  0.,  0.,  0.,  0.,  0.,  0.,  0.,  0.,  0.,  0.,\n",
       "         0.,  0.,  0.,  0.,  0.,  0.,  0.,  0.,  1.,  0.,  0.,  0.,  0.,\n",
       "         0.,  0.,  0.,  0.,  0.,  0.,  0.,  0.,  0.,  0.,  0.,  0.,  0.,\n",
       "         0.,  0.,  0.,  0.,  1.,  0.,  0.,  0.,  0.,  0.,  0.,  0.,  0.,\n",
       "         0.,  0.,  0.,  0.,  0.,  0.,  0.,  0.,  0.,  0.,  0.,  0.,  0.,\n",
       "         0.,  0.,  0.,  0.,  0.,  0.,  0.,  0.,  0.,  0.,  0.,  1.]),\n",
       " array([-7.24008237, -7.22500208, -7.20992179, ...,  7.81004537,\n",
       "         7.82512566,  7.84020595]),\n",
       " <a list of 1000 Patch objects>)"
      ]
     },
     "execution_count": 2,
     "metadata": {},
     "output_type": "execute_result"
    },
    {
     "data": {
      "image/png": "[encoded data removed]",
      "text/plain": [
       "<Figure size 432x288 with 1 Axes>"
      ]
     },
     "metadata": {
      "needs_background": "light"
     },
     "output_type": "display_data"
    }
   ],
   "source": [
    "avg, sd = 0, 2\n",
    "n = 10000\n",
    "x_random = np.random.normal(avg, sd, n)\n",
    "\n",
    "plt.hist(x_random, bins = 1000)\n",
    "\n",
    "# Skewness = -0.0025781248189666343\n",
    "# kurtosis = 0.03976806960642154\n"
   ]
  },
  {
   "cell_type": "code",
   "execution_count": 5,
   "metadata": {},
   "outputs": [
    {
     "name": "stdout",
     "output_type": "stream",
     "text": [
      "Skewness = -0.01442829768952485\n",
      "kurtosis = 0.016922288438713018\n"
     ]
    },
    {
     "data": {
      "image/png": "[encoded data removed]",
      "text/plain": [
       "<matplotlib.figure.Figure at 0x1107e2c18>"
      ]
     },
     "metadata": {},
     "output_type": "display_data"
    }
   ],
   "source": []
  },
  {
   "cell_type": "code",
   "execution_count": null,
   "metadata": {
    "collapsed": true
   },
   "outputs": [],
   "source": [
    "# Your observations here \n",
    "\n",
    "\n",
    "\n",
    "\n",
    "\n",
    "\n",
    "#"
   ]
  },
  {
   "cell_type": "markdown",
   "metadata": {},
   "source": [
    "## Take 2\n",
    "\n",
    "Let's generate another distribution "
   ]
  },
  {
   "cell_type": "code",
   "execution_count": 9,
   "metadata": {},
   "outputs": [],
   "source": [
    "x = np.linspace( -5, 5, 10000 )\n",
    "y = 1./(np.sqrt(2.*np.pi)) * np.exp( -.5*(x)**2  )  # normal distribution"
   ]
  },
  {
   "cell_type": "markdown",
   "metadata": {},
   "source": [
    "Just like above, perform following steps\n",
    "\n",
    "* Plot a histogram for data (y), set bins to auto (default).\n",
    "* Calculate the skewness and kurtosis for this data distribution using above functions.\n",
    "* Record your observations about calculated values and shape of the data."
   ]
  },
  {
   "cell_type": "code",
   "execution_count": 11,
   "metadata": {},
   "outputs": [
    {
     "name": "stdout",
     "output_type": "stream",
     "text": [
      "Skewness = 1.109511549276228\n",
      "kurtosis = -0.31039027765889804\n"
     ]
    },
    {
     "data": {
      "image/png": "[encoded data removed]",
      "text/plain": [
       "<matplotlib.figure.Figure at 0x1a13d45e10>"
      ]
     },
     "metadata": {},
     "output_type": "display_data"
    }
   ],
   "source": [
    "\n",
    "\n",
    "# Skewness = 1.109511549276228\n",
    "# kurtosis = -0.31039027765889804"
   ]
  },
  {
   "cell_type": "code",
   "execution_count": null,
   "metadata": {},
   "outputs": [],
   "source": [
    "# Your observations here \n",
    "\n",
    "\n",
    "\n",
    "\n",
    "\n",
    "\n",
    "\n",
    "#"
   ]
  },
  {
   "cell_type": "markdown",
   "metadata": {},
   "source": [
    "## Level up (Optional)"
   ]
  },
  {
   "cell_type": "markdown",
   "metadata": {},
   "source": [
    "Use the formulas given in th previous lesson to calculate skewness and kurtosis with numpy only. Compare your results to the ones shown using Scipy. Do you see any differences in the results? Try at least one other method to calculate skewness and compare the results to previous ones. "
   ]
  },
  {
   "cell_type": "markdown",
   "metadata": {},
   "source": [
    "## Summary\n",
    "\n",
    "In this lesson we learned how to calculate, visualize and analyze the skewness and kurtosis for any given distribution. We worked with synthetic datasets at this stage to get the concepts cleared up. Later we shall try these techniques on real datasets to see if they are fit for analysis (or not). "
   ]
  }
 ],
 "metadata": {
  "kernelspec": {
   "display_name": "Python 3",
   "language": "python",
   "name": "python3"
  },
  "language_info": {
   "codemirror_mode": {
    "name": "ipython",
    "version": 3
   },
   "file_extension": ".py",
   "mimetype": "text/x-python",
   "name": "python",
   "nbconvert_exporter": "python",
   "pygments_lexer": "ipython3",
   "version": "3.6.6"
  }
 },
 "nbformat": 4,
 "nbformat_minor": 2
}
