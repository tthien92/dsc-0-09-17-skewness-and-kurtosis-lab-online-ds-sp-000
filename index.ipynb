{
 "cells": [
  {
   "cell_type": "markdown",
   "metadata": {},
   "source": [
    "# Skewness and Kurtosis - Lab"
   ]
  },
  {
   "cell_type": "markdown",
   "metadata": {},
   "source": [
    "## Introduction\n",
    "\n",
    "In this lab, we shall look at calculating skewness and kurtosis for a given dataset in python and SciPy. \n",
    "\n",
    "## Objectives\n",
    "You will be able to:\n",
    "* Measure, visualize, and interpret the kurtosis of a dataset\n",
    "* Measure, visualize, and interpret the skewness of a dataset"
   ]
  },
  {
   "cell_type": "markdown",
   "metadata": {},
   "source": [
    "## Bring in SciPy\n",
    "In the previous lesson, we have seen formulas for calculating skewness and kurtosis for a given dataset. Scipy comes packaged with these functions and  provides an easy way to calculate these two quantities, see [scipy.stats.kurtosis](https://docs.scipy.org/doc/scipy/reference/generated/scipy.stats.kurtosis.html#scipy.stats.kurtosis) and [scipy.stats.skew](scipy.stats.skew). Check out the official SciPy documentation for digging deeper into this. Right now we can use format: \n",
    "> **scipy.stats.kurtosis(x)**\n",
    "\n",
    "> **scipy.stats.skew(x)**\n",
    "\n",
    "Where x is a random continuous variable. \n",
    "\n",
    "We shall generate two synthetic datasets and measure/visualize and compare their skew and kurtosis in this lab. So lets get to it."
   ]
  },
  {
   "cell_type": "code",
   "execution_count": 1,
   "metadata": {},
   "outputs": [],
   "source": [
    "# Import required libraries\n",
    "import numpy as np\n",
    "import matplotlib.pyplot as plt\n",
    "\n",
    "from scipy.stats import kurtosis, skew"
   ]
  },
  {
   "cell_type": "markdown",
   "metadata": {},
   "source": [
    "## Take 1\n",
    "Perform following steps\n",
    "* Generate a random normal variable `x_random` in numpy with 10,000 values. Set the mean value to 0 and standard deviation to 2\n",
    "* Plot a histogram for data, set bins to `auto` (default). \n",
    "* Calculate the skewness and kurtosis for this data distribution using above functions. \n",
    "* Record your observations about calculated values and shape of the data. "
   ]
  },
  {
   "cell_type": "code",
   "execution_count": 5,
   "metadata": {},
   "outputs": [
    {
     "data": {
      "text/plain": [
       "(array([  1.,   1.,   3.,   1.,   2.,   1.,   2.,   3.,   5.,   2.,   6.,\n",
       "         10.,   8.,  18.,  18.,  21.,  34.,  29.,  36.,  38.,  55.,  46.,\n",
       "         78.,  59.,  75.,  76., 106., 118., 125., 155., 125., 149., 164.,\n",
       "        158., 171., 232., 246., 255., 277., 287., 286., 285., 260., 288.,\n",
       "        297., 285., 278., 286., 282., 265., 276., 286., 266., 259., 243.,\n",
       "        229., 214., 224., 222., 202., 163., 169., 140., 135., 124.,  98.,\n",
       "        107.,  78.,  79.,  79.,  59.,  59.,  46.,  32.,  29.,  33.,  35.,\n",
       "         18.,  12.,  14.,   5.,  15.,   6.,   9.,   6.,   5.,   2.,   4.,\n",
       "          2.,   0.,   2.,   2.,   1.,   1.,   1.,   0.,   0.,   0.,   0.,\n",
       "          1.]),\n",
       " array([-6.93133285, -6.78277733, -6.63422181, -6.48566629, -6.33711077,\n",
       "        -6.18855525, -6.03999973, -5.89144421, -5.74288869, -5.59433317,\n",
       "        -5.44577765, -5.29722214, -5.14866662, -5.0001111 , -4.85155558,\n",
       "        -4.70300006, -4.55444454, -4.40588902, -4.2573335 , -4.10877798,\n",
       "        -3.96022246, -3.81166694, -3.66311142, -3.5145559 , -3.36600038,\n",
       "        -3.21744486, -3.06888934, -2.92033382, -2.7717783 , -2.62322278,\n",
       "        -2.47466726, -2.32611174, -2.17755622, -2.0290007 , -1.88044518,\n",
       "        -1.73188966, -1.58333414, -1.43477862, -1.2862231 , -1.13766758,\n",
       "        -0.98911206, -0.84055654, -0.69200102, -0.5434455 , -0.39488998,\n",
       "        -0.24633446, -0.09777894,  0.05077658,  0.1993321 ,  0.34788762,\n",
       "         0.49644314,  0.64499866,  0.79355418,  0.9421097 ,  1.09066522,\n",
       "         1.23922074,  1.38777626,  1.53633178,  1.6848873 ,  1.83344282,\n",
       "         1.98199834,  2.13055386,  2.27910938,  2.4276649 ,  2.57622042,\n",
       "         2.72477594,  2.87333146,  3.02188698,  3.1704425 ,  3.31899802,\n",
       "         3.46755354,  3.61610906,  3.76466458,  3.9132201 ,  4.06177562,\n",
       "         4.21033114,  4.35888666,  4.50744218,  4.6559977 ,  4.80455322,\n",
       "         4.95310874,  5.10166426,  5.25021978,  5.3987753 ,  5.54733082,\n",
       "         5.69588634,  5.84444186,  5.99299738,  6.1415529 ,  6.29010842,\n",
       "         6.43866394,  6.58721946,  6.73577498,  6.8843305 ,  7.03288602,\n",
       "         7.18144154,  7.32999706,  7.47855258,  7.6271081 ,  7.77566362,\n",
       "         7.92421914]),\n",
       " <a list of 100 Patch objects>)"
      ]
     },
     "execution_count": 5,
     "metadata": {},
     "output_type": "execute_result"
    },
    {
     "data": {
      "image/png": "[encoded data removed]",
      "text/plain": [
       "<Figure size 432x288 with 1 Axes>"
      ]
     },
     "metadata": {
      "needs_background": "light"
     },
     "output_type": "display_data"
    }
   ],
   "source": [
    "avg, sd = 0, 2\n",
    "n = 10000\n",
    "x_random = np.random.normal(avg, sd, n)\n",
    "\n",
    "plt.hist(x_random, bins = 100)\n",
    "\n",
    "# Skewness = -0.0025781248189666343\n",
    "# kurtosis = 0.03976806960642154\n"
   ]
  },
  {
   "cell_type": "code",
   "execution_count": 5,
   "metadata": {},
   "outputs": [
    {
     "name": "stdout",
     "output_type": "stream",
     "text": [
      "Skewness = -0.01442829768952485\n",
      "kurtosis = 0.016922288438713018\n"
     ]
    },
    {
     "data": {
      "image/png": "[encoded data removed]",
      "text/plain": [
       "<matplotlib.figure.Figure at 0x1107e2c18>"
      ]
     },
     "metadata": {},
     "output_type": "display_data"
    }
   ],
   "source": []
  },
  {
   "cell_type": "code",
   "execution_count": null,
   "metadata": {
    "collapsed": true
   },
   "outputs": [],
   "source": [
    "# Your observations here \n",
    "\n",
    "\n",
    "\n",
    "\n",
    "\n",
    "\n",
    "#"
   ]
  },
  {
   "cell_type": "markdown",
   "metadata": {},
   "source": [
    "## Take 2\n",
    "\n",
    "Let's generate another distribution "
   ]
  },
  {
   "cell_type": "code",
   "execution_count": 9,
   "metadata": {},
   "outputs": [],
   "source": [
    "x = np.linspace( -5, 5, 10000 )\n",
    "y = 1./(np.sqrt(2.*np.pi)) * np.exp( -.5*(x)**2  )  # normal distribution"
   ]
  },
  {
   "cell_type": "markdown",
   "metadata": {},
   "source": [
    "Just like above, perform following steps\n",
    "\n",
    "* Plot a histogram for data (y), set bins to auto (default).\n",
    "* Calculate the skewness and kurtosis for this data distribution using above functions.\n",
    "* Record your observations about calculated values and shape of the data."
   ]
  },
  {
   "cell_type": "code",
   "execution_count": 11,
   "metadata": {},
   "outputs": [
    {
     "name": "stdout",
     "output_type": "stream",
     "text": [
      "Skewness = 1.109511549276228\n",
      "kurtosis = -0.31039027765889804\n"
     ]
    },
    {
     "data": {
      "image/png": "[encoded data removed]",
      "text/plain": [
       "<matplotlib.figure.Figure at 0x1a13d45e10>"
      ]
     },
     "metadata": {},
     "output_type": "display_data"
    }
   ],
   "source": [
    "\n",
    "\n",
    "# Skewness = 1.109511549276228\n",
    "# kurtosis = -0.31039027765889804"
   ]
  },
  {
   "cell_type": "code",
   "execution_count": null,
   "metadata": {},
   "outputs": [],
   "source": [
    "# Your observations here \n",
    "\n",
    "\n",
    "\n",
    "\n",
    "\n",
    "\n",
    "\n",
    "#"
   ]
  },
  {
   "cell_type": "markdown",
   "metadata": {},
   "source": [
    "## Level up (Optional)"
   ]
  },
  {
   "cell_type": "markdown",
   "metadata": {},
   "source": [
    "Use the formulas given in th previous lesson to calculate skewness and kurtosis with numpy only. Compare your results to the ones shown using Scipy. Do you see any differences in the results? Try at least one other method to calculate skewness and compare the results to previous ones. "
   ]
  },
  {
   "cell_type": "markdown",
   "metadata": {},
   "source": [
    "## Summary\n",
    "\n",
    "In this lesson we learned how to calculate, visualize and analyze the skewness and kurtosis for any given distribution. We worked with synthetic datasets at this stage to get the concepts cleared up. Later we shall try these techniques on real datasets to see if they are fit for analysis (or not). "
   ]
  }
 ],
 "metadata": {
  "kernelspec": {
   "display_name": "Python 3",
   "language": "python",
   "name": "python3"
  },
  "language_info": {
   "codemirror_mode": {
    "name": "ipython",
    "version": 3
   },
   "file_extension": ".py",
   "mimetype": "text/x-python",
   "name": "python",
   "nbconvert_exporter": "python",
   "pygments_lexer": "ipython3",
   "version": "3.6.6"
  }
 },
 "nbformat": 4,
 "nbformat_minor": 2
}
