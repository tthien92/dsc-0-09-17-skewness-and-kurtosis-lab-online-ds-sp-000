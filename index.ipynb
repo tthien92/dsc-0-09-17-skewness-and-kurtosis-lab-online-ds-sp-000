{
 "cells": [
  {
   "cell_type": "markdown",
   "metadata": {},
   "source": [
    "# Skewness and Kurtosis - Lab"
   ]
  },
  {
   "cell_type": "markdown",
   "metadata": {},
   "source": [
    "## Introduction\n",
    "\n",
    "In this lab, we shall look at calculating skewness and kurtosis for a given dataset in python and SciPy. \n",
    "\n",
    "## Objectives\n",
    "You will be able to:\n",
    "* Measure, visualize, and interpret the kurtosis of a dataset\n",
    "* Measure, visualize, and interpret the skewness of a dataset"
   ]
  },
  {
   "cell_type": "markdown",
   "metadata": {},
   "source": [
    "## Bring in SciPy\n",
    "In the previous lesson, we have seen formulas for calculating skewness and kurtosis for a given dataset. Scipy comes packaged with these functions and  provides an easy way to calculate these two quantities, see [scipy.stats.kurtosis](https://docs.scipy.org/doc/scipy/reference/generated/scipy.stats.kurtosis.html#scipy.stats.kurtosis) and [scipy.stats.skew](scipy.stats.skew). Check out the official SciPy documentation for digging deeper into this. Right now we can use format: \n",
    "> **scipy.stats.kurtosis(x)**\n",
    "\n",
    "> **scipy.stats.skew(x)**\n",
    "\n",
    "Where x is a random continuous variable. \n",
    "\n",
    "We shall generate two synthetic datasets and measure/visualize and compare their skew and kurtosis in this lab. So lets get to it."
   ]
  },
  {
   "cell_type": "code",
   "execution_count": 1,
   "metadata": {},
   "outputs": [],
   "source": [
    "# Import required libraries\n",
    "import numpy as np\n",
    "import matplotlib.pyplot as plt\n",
    "\n",
    "from scipy.stats import kurtosis, skew"
   ]
  },
  {
   "cell_type": "markdown",
   "metadata": {},
   "source": [
    "## Take 1\n",
    "Perform following steps\n",
    "* Generate a random normal variable `x_random` in numpy with 10,000 values. Set the mean value to 0 and standard deviation to 2\n",
    "* Plot a histogram for data, set bins to `auto` (default). \n",
    "* Calculate the skewness and kurtosis for this data distribution using above functions. \n",
    "* Record your observations about calculated values and shape of the data. "
   ]
  },
  {
   "cell_type": "code",
   "execution_count": 11,
   "metadata": {},
   "outputs": [
    {
     "data": {
      "text/plain": [
       "(array([  3.,   3.,   0.,   1.,   2.,   6.,   3.,   5.,  15.,  14.,  22.,\n",
       "         20.,  18.,  26.,  26.,  36.,  38.,  54.,  60.,  68.,  67.,  57.,\n",
       "         85., 102., 110., 113., 115., 150., 136., 162., 193., 179., 201.,\n",
       "        224., 199., 212., 259., 245., 265., 282., 305., 303., 276., 265.,\n",
       "        295., 286., 285., 280., 268., 278., 280., 242., 264., 231., 221.,\n",
       "        196., 206., 193., 159., 162., 144., 128., 108.,  98., 117.,  93.,\n",
       "         80.,  55.,  65.,  49.,  50.,  41.,  36.,  28.,  27.,  25.,  20.,\n",
       "         12.,  12.,  10.,   4.,   5.,   4.,   5.,   3.,   2.,   2.,   1.,\n",
       "          1.,   0.,   2.,   0.,   0.,   1.,   0.,   0.,   0.,   0.,   0.,\n",
       "          1.]),\n",
       " array([-6.45150615, -6.30517431, -6.15884248, -6.01251064, -5.8661788 ,\n",
       "        -5.71984696, -5.57351512, -5.42718328, -5.28085144, -5.1345196 ,\n",
       "        -4.98818777, -4.84185593, -4.69552409, -4.54919225, -4.40286041,\n",
       "        -4.25652857, -4.11019673, -3.96386489, -3.81753306, -3.67120122,\n",
       "        -3.52486938, -3.37853754, -3.2322057 , -3.08587386, -2.93954202,\n",
       "        -2.79321019, -2.64687835, -2.50054651, -2.35421467, -2.20788283,\n",
       "        -2.06155099, -1.91521915, -1.76888731, -1.62255548, -1.47622364,\n",
       "        -1.3298918 , -1.18355996, -1.03722812, -0.89089628, -0.74456444,\n",
       "        -0.5982326 , -0.45190077, -0.30556893, -0.15923709, -0.01290525,\n",
       "         0.13342659,  0.27975843,  0.42609027,  0.5724221 ,  0.71875394,\n",
       "         0.86508578,  1.01141762,  1.15774946,  1.3040813 ,  1.45041314,\n",
       "         1.59674498,  1.74307681,  1.88940865,  2.03574049,  2.18207233,\n",
       "         2.32840417,  2.47473601,  2.62106785,  2.76739969,  2.91373152,\n",
       "         3.06006336,  3.2063952 ,  3.35272704,  3.49905888,  3.64539072,\n",
       "         3.79172256,  3.93805439,  4.08438623,  4.23071807,  4.37704991,\n",
       "         4.52338175,  4.66971359,  4.81604543,  4.96237727,  5.1087091 ,\n",
       "         5.25504094,  5.40137278,  5.54770462,  5.69403646,  5.8403683 ,\n",
       "         5.98670014,  6.13303198,  6.27936381,  6.42569565,  6.57202749,\n",
       "         6.71835933,  6.86469117,  7.01102301,  7.15735485,  7.30368668,\n",
       "         7.45001852,  7.59635036,  7.7426822 ,  7.88901404,  8.03534588,\n",
       "         8.18167772]),\n",
       " <a list of 100 Patch objects>)"
      ]
     },
     "execution_count": 11,
     "metadata": {},
     "output_type": "execute_result"
    },
    {
     "data": {
      "image/png": "[encoded data removed]",
      "text/plain": [
       "<Figure size 432x288 with 1 Axes>"
      ]
     },
     "metadata": {
      "needs_background": "light"
     },
     "output_type": "display_data"
    }
   ],
   "source": [
    "avg, sd = 0, 2\n",
    "n = 10000\n",
    "x_random = np.random.normal(avg, sd, n)\n",
    "\n",
    "plt.hist(x_random, bins = 100)\n",
    "\n",
    "\n",
    "\n",
    "# Skewness = -0.0025781248189666343\n",
    "# kurtosis = 0.03976806960642154\n"
   ]
  },
  {
   "cell_type": "code",
   "execution_count": 5,
   "metadata": {},
   "outputs": [
    {
     "name": "stdout",
     "output_type": "stream",
     "text": [
      "Skewness = -0.01442829768952485\n",
      "kurtosis = 0.016922288438713018\n"
     ]
    },
    {
     "data": {
      "image/png": "[encoded data removed]",
      "text/plain": [
       "<matplotlib.figure.Figure at 0x1107e2c18>"
      ]
     },
     "metadata": {},
     "output_type": "display_data"
    }
   ],
   "source": []
  },
  {
   "cell_type": "code",
   "execution_count": null,
   "metadata": {
    "collapsed": true
   },
   "outputs": [],
   "source": [
    "# Your observations here \n",
    "\n",
    "\n",
    "\n",
    "\n",
    "\n",
    "\n",
    "#"
   ]
  },
  {
   "cell_type": "markdown",
   "metadata": {},
   "source": [
    "## Take 2\n",
    "\n",
    "Let's generate another distribution "
   ]
  },
  {
   "cell_type": "code",
   "execution_count": 9,
   "metadata": {},
   "outputs": [],
   "source": [
    "x = np.linspace( -5, 5, 10000 )\n",
    "y = 1./(np.sqrt(2.*np.pi)) * np.exp( -.5*(x)**2  )  # normal distribution"
   ]
  },
  {
   "cell_type": "markdown",
   "metadata": {},
   "source": [
    "Just like above, perform following steps\n",
    "\n",
    "* Plot a histogram for data (y), set bins to auto (default).\n",
    "* Calculate the skewness and kurtosis for this data distribution using above functions.\n",
    "* Record your observations about calculated values and shape of the data."
   ]
  },
  {
   "cell_type": "code",
   "execution_count": 11,
   "metadata": {},
   "outputs": [
    {
     "name": "stdout",
     "output_type": "stream",
     "text": [
      "Skewness = 1.109511549276228\n",
      "kurtosis = -0.31039027765889804\n"
     ]
    },
    {
     "data": {
      "image/png": "[encoded data removed]",
      "text/plain": [
       "<matplotlib.figure.Figure at 0x1a13d45e10>"
      ]
     },
     "metadata": {},
     "output_type": "display_data"
    }
   ],
   "source": [
    "\n",
    "\n",
    "# Skewness = 1.109511549276228\n",
    "# kurtosis = -0.31039027765889804"
   ]
  },
  {
   "cell_type": "code",
   "execution_count": null,
   "metadata": {},
   "outputs": [],
   "source": [
    "# Your observations here \n",
    "\n",
    "\n",
    "\n",
    "\n",
    "\n",
    "\n",
    "\n",
    "#"
   ]
  },
  {
   "cell_type": "markdown",
   "metadata": {},
   "source": [
    "## Level up (Optional)"
   ]
  },
  {
   "cell_type": "markdown",
   "metadata": {},
   "source": [
    "Use the formulas given in th previous lesson to calculate skewness and kurtosis with numpy only. Compare your results to the ones shown using Scipy. Do you see any differences in the results? Try at least one other method to calculate skewness and compare the results to previous ones. "
   ]
  },
  {
   "cell_type": "markdown",
   "metadata": {},
   "source": [
    "## Summary\n",
    "\n",
    "In this lesson we learned how to calculate, visualize and analyze the skewness and kurtosis for any given distribution. We worked with synthetic datasets at this stage to get the concepts cleared up. Later we shall try these techniques on real datasets to see if they are fit for analysis (or not). "
   ]
  }
 ],
 "metadata": {
  "kernelspec": {
   "display_name": "Python 3",
   "language": "python",
   "name": "python3"
  },
  "language_info": {
   "codemirror_mode": {
    "name": "ipython",
    "version": 3
   },
   "file_extension": ".py",
   "mimetype": "text/x-python",
   "name": "python",
   "nbconvert_exporter": "python",
   "pygments_lexer": "ipython3",
   "version": "3.6.6"
  }
 },
 "nbformat": 4,
 "nbformat_minor": 2
}
